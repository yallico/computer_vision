{
 "cells": [
  {
   "cell_type": "code",
   "execution_count": 3,
   "metadata": {},
   "outputs": [],
   "source": [
    "import pandas as pd\n",
    "import yaml"
   ]
  },
  {
   "cell_type": "code",
   "execution_count": null,
   "metadata": {},
   "outputs": [],
   "source": [
    "# Adjust Path, I use literal. Clear file path before Git Push\n",
    "csv_file_path = r\"D:\\MASTERS\\Year 2\\Machine Vision\\Assignment\\MinneApple\\counting\\val\\val_ground_truth.csv\"\n",
    "data = pd.read_csv(csv_file_path)\n",
    "\n",
    "data_dict = data.to_dict(orient=\"records\")\n",
    "\n",
    "# Key created is a top level name, in this case \"apple_images\"\n",
    "yaml_data = {\"apple_images\": data_dict}\n",
    "\n",
    "yaml_file_path = r\"D:\\MASTERS\\Year 2\\Machine Vision\\Assignment\\MinneApple\\counting\\val\\val_ground_truth.yaml\"\n",
    "with open(yaml_file_path, \"w\") as yaml_file:\n",
    "    yaml.dump(yaml_data, yaml_file, default_flow_style=False)\n",
    "\n",
    "print(f\"YAML file has been saved to {yaml_file_path}\")"
   ]
  }
 ],
 "metadata": {
  "kernelspec": {
   "display_name": "base",
   "language": "python",
   "name": "python3"
  },
  "language_info": {
   "codemirror_mode": {
    "name": "ipython",
    "version": 3
   },
   "file_extension": ".py",
   "mimetype": "text/x-python",
   "name": "python",
   "nbconvert_exporter": "python",
   "pygments_lexer": "ipython3",
   "version": "3.12.3"
  }
 },
 "nbformat": 4,
 "nbformat_minor": 2
}
