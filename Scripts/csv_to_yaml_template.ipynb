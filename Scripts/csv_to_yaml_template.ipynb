{
 "cells": [
  {
   "cell_type": "code",
   "execution_count": 3,
   "metadata": {},
   "outputs": [],
   "source": [
    "import pandas as pd\n",
    "import yaml"
   ]
  },
  {
   "cell_type": "markdown",
   "metadata": {},
   "source": [
    "## CSV to YAML"
   ]
  },
  {
   "cell_type": "code",
   "execution_count": 7,
   "metadata": {},
   "outputs": [
    {
     "name": "stdout",
     "output_type": "stream",
     "text": [
      "YAML file has been saved to D:\\MASTERS\\Year 2\\Machine Vision\\Assignment\\MinneApple\\counting\\train\\train_ground_truth.yaml\n"
     ]
    }
   ],
   "source": [
    "# Adjust Path, I use literal. Clear file path before Git Push\n",
    "csv_file_path = r\"D:\\MASTERS\\Year 2\\Machine Vision\\Assignment\\MinneApple\\counting\\train\\train_ground_truth.csv\"\n",
    "data = pd.read_csv(csv_file_path)\n",
    "\n",
    "data_dict = data.to_dict(orient=\"records\")\n",
    "\n",
    "# Key created is a top level name, in this case \"apple_images\"\n",
    "yaml_data = {\"apple_images\": data_dict}\n",
    "\n",
    "yaml_file_path = r\"D:\\MASTERS\\Year 2\\Machine Vision\\Assignment\\MinneApple\\counting\\train\\train_ground_truth.yaml\"\n",
    "with open(yaml_file_path, \"w\") as yaml_file:\n",
    "    yaml.dump(yaml_data, yaml_file, default_flow_style=False)\n",
    "\n",
    "print(f\"YAML file has been saved to {yaml_file_path}\")"
   ]
  },
  {
   "cell_type": "markdown",
   "metadata": {},
   "source": [
    "## Create a YAML file for YoloV5"
   ]
  },
  {
   "cell_type": "code",
   "execution_count": 5,
   "metadata": {},
   "outputs": [
    {
     "name": "stdout",
     "output_type": "stream",
     "text": [
      "YOLOv5 YAML file has been saved to D:/MASTERS/Year 2/Machine Vision/Assignment/MinneApple/counting/yolov5_dataset.yaml\n"
     ]
    }
   ],
   "source": [
    "# Define the YAML content for YOLOv5\n",
    "data = {\n",
    "    'train': 'D:/MASTERS/Year 2/Machine Vision/Assignment/MinneApple/counting/train/images',\n",
    "    'val': 'D:/MASTERS/Year 2/Machine Vision/Assignment/MinneApple/counting/val/images',\n",
    "    'nc': 1,\n",
    "    'names': ['apple']\n",
    "}\n",
    "\n",
    "# Save to a new YAML file\n",
    "yaml_file_path = 'D:/MASTERS/Year 2/Machine Vision/Assignment/MinneApple/counting/yolov5_dataset.yaml'\n",
    "with open(yaml_file_path, 'w') as yaml_file:\n",
    "    yaml.dump(data, yaml_file, default_flow_style=False)\n",
    "\n",
    "print(f\"YOLOv5 YAML file has been saved to {yaml_file_path}\")"
   ]
  }
 ],
 "metadata": {
  "kernelspec": {
   "display_name": "base",
   "language": "python",
   "name": "python3"
  },
  "language_info": {
   "codemirror_mode": {
    "name": "ipython",
    "version": 3
   },
   "file_extension": ".py",
   "mimetype": "text/x-python",
   "name": "python",
   "nbconvert_exporter": "python",
   "pygments_lexer": "ipython3",
   "version": "3.12.3"
  }
 },
 "nbformat": 4,
 "nbformat_minor": 2
}
